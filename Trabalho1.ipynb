{
  "nbformat": 4,
  "nbformat_minor": 0,
  "metadata": {
    "colab": {
      "name": "Trabalho1.ipynb",
      "provenance": [],
      "collapsed_sections": []
    },
    "kernelspec": {
      "name": "python3",
      "display_name": "Python 3"
    },
    "language_info": {
      "name": "python"
    }
  },
  "cells": [
    {
      "cell_type": "markdown",
      "source": [
        "# Trabalho 1 \n",
        "## Problema do caixeiro viajante utilizando algoritmo genético\n",
        "---\n",
        "**Alunos:**  \n",
        "Leonardo Nogueira Agnelo - **RA:** 779801  \n",
        "Matheus Paladini Pedrinho - **RA:** 769111"
      ],
      "metadata": {
        "id": "bi2N71QHLAFG"
      }
    },
    {
      "cell_type": "markdown",
      "source": [
        "Importando bibliotecas"
      ],
      "metadata": {
        "id": "I1F9Zzzbg9Ns"
      }
    },
    {
      "cell_type": "code",
      "execution_count": 160,
      "metadata": {
        "id": "bg_IrD511Bad"
      },
      "outputs": [],
      "source": [
        "import numpy as np\n",
        "import random"
      ]
    },
    {
      "cell_type": "markdown",
      "source": [
        "Insere o número de cidades e preenche a matriz de distância aleatóriamente "
      ],
      "metadata": {
        "id": "7WsOB5WV1DVu"
      }
    },
    {
      "cell_type": "code",
      "source": [
        "#número de cidades\n",
        "n_cidades = 6\n",
        "#define uma distancia maxima entre duas cidades\n",
        "dist_max_entre_2 = 100\n",
        "#inicializa uma matriz zerada\n",
        "matriz_dist = np.zeros((n_cidades,n_cidades), dtype = int)\n",
        "\n",
        "#preenche a matriz com numero aleatórios entre 0 e no número maximo pre definido\n",
        "for i in range(n_cidades):\n",
        "  for j in range(i):\n",
        "    if(i==j):\n",
        "      matriz_dist[i][j] = 0\n",
        "    else:\n",
        "      matriz_dist[i][j] = random.randint(0,dist_max_entre_2)\n",
        "      #faz com que a matriz seja reflexiva\n",
        "      matriz_dist[j][i] = matriz_dist[i][j]\n",
        "\n",
        "#mostra a distancia na matriz criada\n",
        "matriz_dist"
      ],
      "metadata": {
        "id": "MTuJZbaF1MB2",
        "colab": {
          "base_uri": "https://localhost:8080/"
        },
        "outputId": "389c575f-86a4-4ef2-ee0c-8c921272ab23"
      },
      "execution_count": 161,
      "outputs": [
        {
          "output_type": "execute_result",
          "data": {
            "text/plain": [
              "array([[ 0, 49,  9, 32, 66, 19],\n",
              "       [49,  0,  8, 72, 64, 80],\n",
              "       [ 9,  8,  0,  1, 88, 42],\n",
              "       [32, 72,  1,  0, 60, 55],\n",
              "       [66, 64, 88, 60,  0, 37],\n",
              "       [19, 80, 42, 55, 37,  0]])"
            ]
          },
          "metadata": {},
          "execution_count": 161
        }
      ]
    },
    {
      "cell_type": "markdown",
      "source": [
        "Define o número de individuos(possiveis caminhos) da população inicial e preenche aleatóriamente cada individuo com caminhos representados pelo numeor de cada, sem os valores da cidade final e inicial dado que ele ja é conhecido, ou seja 0."
      ],
      "metadata": {
        "id": "k33E-_NIlkqs"
      }
    },
    {
      "cell_type": "code",
      "source": [
        "#Número de individuos de uma população(deve ser par)\n",
        "n_populacao = 10\n",
        "#cria um array vetores preenchido com zeros\n",
        "populacao = np.zeros((n_populacao,n_cidades-1), dtype=int)\n",
        "\n",
        "#preenche o array de vetores onde cada vetor possui um caminho que passa por todas as cidades(menos a cidade 0)\n",
        "for i in range(n_populacao):\n",
        "  populacao[i] = random.sample(range(1,n_cidades),5)\n",
        "\n",
        "#mostra a população criada\n",
        "populacao"
      ],
      "metadata": {
        "id": "H8H0S0b7n7UK",
        "colab": {
          "base_uri": "https://localhost:8080/"
        },
        "outputId": "6e0883cc-3d25-44ea-b359-bb4225e82b11"
      },
      "execution_count": 162,
      "outputs": [
        {
          "output_type": "execute_result",
          "data": {
            "text/plain": [
              "array([[1, 4, 5, 3, 2],\n",
              "       [5, 3, 2, 4, 1],\n",
              "       [1, 4, 3, 2, 5],\n",
              "       [4, 2, 3, 1, 5],\n",
              "       [5, 1, 3, 2, 4],\n",
              "       [5, 4, 3, 1, 2],\n",
              "       [3, 5, 4, 2, 1],\n",
              "       [5, 4, 2, 3, 1],\n",
              "       [3, 4, 2, 1, 5],\n",
              "       [1, 2, 3, 5, 4]])"
            ]
          },
          "metadata": {},
          "execution_count": 162
        }
      ]
    },
    {
      "cell_type": "markdown",
      "source": [
        "**Calcula a função fitness(objetivo)**  \n",
        "De acordo com o problema apresentado a função objetivo retorna a soma das distancias de um caminho, em que quanto menor a distancia melhor o resultado\n"
      ],
      "metadata": {
        "id": "kwbMbP_twwP5"
      }
    },
    {
      "cell_type": "code",
      "source": [
        "#função fitness onde é passado um caminho ocmo parametro\n",
        "def fitness(caminho):\n",
        "  fit = 0\n",
        "  #referente a distância da cidade inicial até a primeira cidade do vetor\n",
        "  inicio = matriz_dist[0][caminho[0]]\n",
        "  #soma a distancia \"inicio\"\n",
        "  fit += inicio\n",
        "\n",
        "  #percorre a lista calculando a distância de uma cidade a outra\n",
        "  for i in range(len(caminho)-1):\n",
        "    #passo é a distância entre uma cidade e outra\n",
        "    passo = matriz_dist[caminho[i]][caminho[i+1]]\n",
        "    #soma a distância de um passo\n",
        "    fit += passo\n",
        "  \n",
        "  #distância da última cidade da lista até a cidade 0(final)\n",
        "  fim = matriz_dist[caminho[len(caminho)-1]][0]\n",
        "  #soma a distância final\n",
        "  fit += fim\n",
        "  \n",
        "  #retorna o valor total percorrido = fit\n",
        "  return fit\n",
        "\n",
        "\n",
        "#retorna uma lista de função fitness de cada individuo da população\n",
        "def retorna_fitness(populacao):\n",
        "  list_fit = []\n",
        "  #chama a função fitness para cada individuo(caminho)\n",
        "  for i in range(n_populacao):\n",
        "    linha = fitness(populacao[i])\n",
        "    list_fit.append(linha)\n",
        "\n",
        "  return list_fit"
      ],
      "metadata": {
        "id": "rR709tUGonof"
      },
      "execution_count": 163,
      "outputs": []
    },
    {
      "cell_type": "markdown",
      "source": [
        "Função Elitismo"
      ],
      "metadata": {
        "id": "laGhH2kb3vX-"
      }
    },
    {
      "cell_type": "code",
      "source": [
        "#Retorna os o index dos dois melhores(menores) valores da lista de fitness\n",
        "def elitismo(list_fitness):\n",
        "  id1 = list_fitness.index(min(list_fitness))\n",
        "  list_fitness.pop(id1)\n",
        "  id2 = list_fitness.index(min(list_fitness))\n",
        "\n",
        "  return id1, id2\n"
      ],
      "metadata": {
        "id": "DFYotcrt3bw2"
      },
      "execution_count": 164,
      "outputs": []
    },
    {
      "cell_type": "markdown",
      "source": [
        "Função seleção por torneio"
      ],
      "metadata": {
        "id": "N_KwZ5BJpg4p"
      }
    },
    {
      "cell_type": "code",
      "source": [
        "#duas disputa de entre individuos aleatório que retorna os melhor segundo a função fitness\n",
        "def torneio(list_fitness):\n",
        "\n",
        "  cam1 = 0\n",
        "  cam2 = 0\n",
        "\n",
        "  #evita que os 2 indivios(caminos) sejam iguais\n",
        "  while cam1 == cam2:\n",
        "    ##[1]\n",
        "    #escolhe 2 index aleatórios para disputarem entre si\n",
        "    num = random.sample(range(1,n_populacao),2)\n",
        "    #derifica qual o melhor indice\n",
        "    if list_fitness[num[0]] < list_fitness[1]:\n",
        "      cam1 = num[0]\n",
        "    else:\n",
        "      cam1 = num[1]\n",
        "\n",
        "    #igual ##[1]\n",
        "    num = random.sample(range(1,n_populacao),2)\n",
        "    if list_fitness[num[0]] < list_fitness[1]:\n",
        "      cam2 = num[0]\n",
        "    else:\n",
        "      cam2 = num[1]\n",
        "\n",
        "    return cam1, cam2\n",
        "  "
      ],
      "metadata": {
        "id": "I_8okkSd8m9w"
      },
      "execution_count": 165,
      "outputs": []
    },
    {
      "cell_type": "markdown",
      "source": [
        "Função de Crossover"
      ],
      "metadata": {
        "id": "36CdbKKYs2aa"
      }
    },
    {
      "cell_type": "code",
      "source": [
        "#cruza dois individuos(caminhos) e geram dois individuos diferentes\n",
        "def crossover(ids, pop):\n",
        "  #como o tamanho do individuo é 5 posições é definido aleatóriamente se a metade vai ser na posição 2 ou 3\n",
        "  corte = random.randint(2,3)\n",
        "\n",
        "  #recebe os pais de acordo com os IDs passados\n",
        "  pai1 = pop[ids[0]]\n",
        "  pai2 = pop[ids[1]]\n",
        "\n",
        "  #gera os filhos com o cruzamente dos pais\n",
        "  filho1 = np.concatenate([pai1[:corte],pai2[corte:]])\n",
        "  filho2 = np.concatenate([pai2[:corte],pai1[corte:]])\n",
        "\n",
        "  #evita que as cidades após o cruzamente estejam duplicadas\n",
        "  mata_dupla(filho1)\n",
        "  mata_dupla(filho2)\n",
        "\n",
        "  return filho1,filho2\n",
        "\n",
        "#função que evita cidades duplicadas\n",
        "def mata_dupla(filho):\n",
        "  #vetor auxilliar que mostra quais cidade estão duplicadas\n",
        "  aux = [0,0,0,0,0]\n",
        "  #vetor auxiliar que mostra a posição do individuo que esta duplicada\n",
        "  posi = []\n",
        "  aux_posi = 0 \n",
        "\n",
        "  #varre o individuo verificando onde há duplas\n",
        "  for i in range(len(filho)):\n",
        "    if aux[filho[i]-1]==0: #cidade ainda não apareceu no individuo\n",
        "      aux[filho[i]-1]=1\n",
        "    elif aux[filho[i]-1]==1: #cidade ja apareceu no individuo\n",
        "      posi.append(i)\n",
        "\n",
        "  #verifica quais cidades não apareceram no vetor e insere no posição que foi guardada no vetor auxiliar de posição\n",
        "  for j in range(len(aux)):\n",
        "    if(aux[j]==0): #cidade não aparece \n",
        "      filho[posi[aux_posi]] = j+1 #insere na posição do que tem uma dupla\n",
        "      aux[j] = 1 \n",
        "      aux_posi +=1\n"
      ],
      "metadata": {
        "id": "mWB_0H9Vs1Uz"
      },
      "execution_count": 166,
      "outputs": []
    },
    {
      "cell_type": "markdown",
      "source": [
        "Função de Mutação"
      ],
      "metadata": {
        "id": "9CGqEFeZ_hMn"
      }
    },
    {
      "cell_type": "code",
      "source": [
        "#de acordo com uma taxa(entre 0 e 1) de possível mutação altera a posição de duas cidades de um indivíduo\n",
        "def mutacao(filhos, taxa):\n",
        "  posi1 = 0\n",
        "  posi2 = 0\n",
        "  for i in range(len(filhos)):\n",
        "    #define a probabilidade de mutação\n",
        "    if random.random() <= taxa:\n",
        "      #evita que as posições para troca sejam as mesmas\n",
        "      while posi1 == posi2:\n",
        "      #escolhe quais posições serão trocadas\n",
        "        posi1 = random.randint(0,n_cidades-2)\n",
        "        posi2 = random.randint(0,n_cidades-2)\n",
        "      \n",
        "      aux = 0\n",
        "      #troca as posições \n",
        "      aux = filhos[i][posi1]\n",
        "      filhos[i][posi1] = filhos[i][posi2]\n",
        "      filhos[i][posi2] = aux\n",
        "  \n",
        "  return filhos\n"
      ],
      "metadata": {
        "id": "Alp3KPG5_fiT"
      },
      "execution_count": 167,
      "outputs": []
    },
    {
      "cell_type": "markdown",
      "source": [
        "Programa principal"
      ],
      "metadata": {
        "id": "EiZb3lSpChgn"
      }
    },
    {
      "cell_type": "code",
      "source": [
        "#numero de gerações\n",
        "n_geracoes = 50\n",
        "i = 0\n",
        "sem_melhor = 0\n",
        "melhor_anterior = 0\n",
        "\n",
        "#executa um numero maximo de repetições ou até o melhor fitness encontrado permanecer por 20 gerações\n",
        "while (i in range(n_geracoes)) and (sem_melhor < 20):\n",
        "\n",
        "  #declara nova população vazia\n",
        "  nova_populacao = np.zeros((n_populacao,n_cidades-1), dtype=int)\n",
        "\n",
        "  #calcula o fitness da população(menor distancia)\n",
        "  fit = retorna_fitness(populacao)\n",
        "  id_melhor = fit.index(min(fit))\n",
        "\n",
        "  #verifica quantas rodadas está com o mesmo fitness\n",
        "  if(fit[melhor_anterior] == fit[id_melhor]):\n",
        "    sem_melhor +=1\n",
        "  else:\n",
        "    sem_melhor = 0\n",
        "  melhor_anterior = id_melhor\n",
        "\n",
        "  #imprime qual a geração atual, o melhro caminho e o fitness dele\n",
        "  print(\" geração: \", i ,\", melhor caminho : \",populacao[id_melhor],\", fitness\", fit[id_melhor])\n",
        "  print()\n",
        "\n",
        "  #Elitismo(mantem os 2 melhores camilhos para a proxima geração)\n",
        "  elites = elitismo(fit.copy())\n",
        "  nova_populacao[0] = populacao[elites[0]]\n",
        "  nova_populacao[1] = populacao[elites[1]]\n",
        "  n_filhos = 2\n",
        "\n",
        "  #permanece no loop até que uma nova geração seja criada por filhos\n",
        "  while n_filhos < n_populacao:\n",
        "    #seleção por torneio(2 filhos)\n",
        "    vencedores = torneio(fit)\n",
        "    #cruzamento\n",
        "    filhos = crossover(vencedores,populacao)\n",
        "    #mutacao 50% de chance\n",
        "    filhos = mutacao(filhos,1)\n",
        "    #add filhos a populacao\n",
        "    nova_populacao[n_filhos] = filhos[0]\n",
        "    nova_populacao[n_filhos+1] = filhos[1]\n",
        "\n",
        "    n_filhos +=2\n",
        "\n",
        "  #substitui a populaçõa antiga pela nova\n",
        "  populacao = nova_populacao.copy()\n",
        "  i +=1"
      ],
      "metadata": {
        "colab": {
          "base_uri": "https://localhost:8080/"
        },
        "id": "7v4IqrkVyFKd",
        "outputId": "1c391890-8cd6-49ca-f0c0-a8d1db3f8e36"
      },
      "execution_count": 168,
      "outputs": [
        {
          "output_type": "stream",
          "name": "stdout",
          "text": [
            " geração:  0 , melhor caminho :  [5 4 3 1 2] , fitness 205\n",
            "\n",
            " geração:  1 , melhor caminho :  [5 4 3 1 2] , fitness 205\n",
            "\n",
            " geração:  2 , melhor caminho :  [2 3 1 4 5] , fitness 202\n",
            "\n",
            " geração:  3 , melhor caminho :  [2 3 1 4 5] , fitness 202\n",
            "\n",
            " geração:  4 , melhor caminho :  [1 2 3 4 5] , fitness 174\n",
            "\n",
            " geração:  5 , melhor caminho :  [1 2 3 4 5] , fitness 174\n",
            "\n",
            " geração:  6 , melhor caminho :  [1 2 3 4 5] , fitness 174\n",
            "\n",
            " geração:  7 , melhor caminho :  [1 2 3 4 5] , fitness 174\n",
            "\n",
            " geração:  8 , melhor caminho :  [1 2 3 4 5] , fitness 174\n",
            "\n",
            " geração:  9 , melhor caminho :  [1 2 3 4 5] , fitness 174\n",
            "\n",
            " geração:  10 , melhor caminho :  [1 2 3 4 5] , fitness 174\n",
            "\n",
            " geração:  11 , melhor caminho :  [1 2 3 4 5] , fitness 174\n",
            "\n",
            " geração:  12 , melhor caminho :  [1 2 3 4 5] , fitness 174\n",
            "\n",
            " geração:  13 , melhor caminho :  [1 2 3 4 5] , fitness 174\n",
            "\n",
            " geração:  14 , melhor caminho :  [1 2 3 4 5] , fitness 174\n",
            "\n",
            " geração:  15 , melhor caminho :  [1 2 3 4 5] , fitness 174\n",
            "\n",
            " geração:  16 , melhor caminho :  [1 2 3 4 5] , fitness 174\n",
            "\n",
            " geração:  17 , melhor caminho :  [1 2 3 4 5] , fitness 174\n",
            "\n",
            " geração:  18 , melhor caminho :  [1 2 3 4 5] , fitness 174\n",
            "\n",
            " geração:  19 , melhor caminho :  [3 2 1 4 5] , fitness 161\n",
            "\n",
            " geração:  20 , melhor caminho :  [3 2 1 4 5] , fitness 161\n",
            "\n",
            " geração:  21 , melhor caminho :  [3 2 1 4 5] , fitness 161\n",
            "\n",
            " geração:  22 , melhor caminho :  [3 2 1 4 5] , fitness 161\n",
            "\n",
            " geração:  23 , melhor caminho :  [3 2 1 4 5] , fitness 161\n",
            "\n",
            " geração:  24 , melhor caminho :  [3 2 1 4 5] , fitness 161\n",
            "\n",
            " geração:  25 , melhor caminho :  [3 2 1 4 5] , fitness 161\n",
            "\n",
            " geração:  26 , melhor caminho :  [3 2 1 4 5] , fitness 161\n",
            "\n",
            " geração:  27 , melhor caminho :  [3 2 1 4 5] , fitness 161\n",
            "\n",
            " geração:  28 , melhor caminho :  [3 2 1 4 5] , fitness 161\n",
            "\n",
            " geração:  29 , melhor caminho :  [3 2 1 4 5] , fitness 161\n",
            "\n",
            " geração:  30 , melhor caminho :  [3 2 1 4 5] , fitness 161\n",
            "\n",
            " geração:  31 , melhor caminho :  [3 2 1 4 5] , fitness 161\n",
            "\n",
            " geração:  32 , melhor caminho :  [3 2 1 4 5] , fitness 161\n",
            "\n",
            " geração:  33 , melhor caminho :  [3 2 1 4 5] , fitness 161\n",
            "\n",
            " geração:  34 , melhor caminho :  [3 2 1 4 5] , fitness 161\n",
            "\n",
            " geração:  35 , melhor caminho :  [3 2 1 4 5] , fitness 161\n",
            "\n",
            " geração:  36 , melhor caminho :  [3 2 1 4 5] , fitness 161\n",
            "\n",
            " geração:  37 , melhor caminho :  [3 2 1 4 5] , fitness 161\n",
            "\n",
            " geração:  38 , melhor caminho :  [3 2 1 4 5] , fitness 161\n",
            "\n",
            " geração:  39 , melhor caminho :  [3 2 1 4 5] , fitness 161\n",
            "\n"
          ]
        }
      ]
    }
  ]
}